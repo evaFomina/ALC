{
 "cells": [
  {
   "cell_type": "markdown",
   "metadata": {},
   "source": [
    "### Consigna \n",
    "\n",
    "1. **Inversión de Matrices:**\n",
    "   Completar la función `invertir_matriz(A)` para calcular la **inversa** de la matriz \\( A \\) utilizando **eliminación gaussiana** y sustitución hacia atrás. \n",
    "\n",
    "2. **Sistema de Ecuaciones Lineales:**\n",
    "   Completar la función `resolver_sistema(A, b)` para resolver el sistema lineal \\( A \\mathbf{x} = \\mathbf{b} \\). Utilizar la función `invertir_matriz(A)`.\n",
    "\n",
    "3. **Cambio de Base:**\n",
    "   Completar la función `cambio_base_matriz(B_prime, B)` para calcular la matriz de **cambio de base** de \\( B \\) a \\( B' \\).\n"
   ]
  },
  {
   "cell_type": "code",
   "execution_count": 22,
   "metadata": {},
   "outputs": [],
   "source": [
    "import numpy as np\n",
    "\n",
    "def escalonar_filas(M):\n",
    "    \"\"\" \n",
    "        Retorna la Matriz Escalonada por Filas \n",
    "    \"\"\"\n",
    "    A = np.copy(M)\n",
    "    if (issubclass(A.dtype.type, np.integer)):\n",
    "        A = A.astype(float)\n",
    "\n",
    "    # Si A no tiene filas o columnas, ya esta escalonada\n",
    "    f, c = A.shape\n",
    "    if f == 0 or c == 0:\n",
    "        return A\n",
    "\n",
    "    # buscamos primer elemento no nulo de la primera columna\n",
    "    i = 0\n",
    "    \n",
    "    while i < f and A[i,0] == 0:\n",
    "        i += 1\n",
    "\n",
    "    if i == f:\n",
    "        # si todos los elementos de la primera columna son ceros\n",
    "        # escalonamos filas desde la segunda columna\n",
    "        B = escalonar_filas(A[:,1:])\n",
    "        \n",
    "        # y volvemos a agregar la primera columna de zeros\n",
    "        return np.block([A[:,:1], B])\n",
    "\n",
    "\n",
    "    # intercambiamos filas i <-> 0, pues el primer cero aparece en la fila i\n",
    "    if i > 0:\n",
    "        A[[0,i],:] = A[[i,0],:]\n",
    "\n",
    "    # PASO DE TRIANGULACION GAUSSIANA:\n",
    "    # a las filas subsiguientes les restamos un multiplo de la primera\n",
    "    A[1:,:] -= (A[0,:] / A[0,0]) * A[1:,0:1]\n",
    "\n",
    "    # escalonamos desde la segunda fila y segunda columna en adelante\n",
    "    B = escalonar_filas(A[1:,1:])\n",
    "\n",
    "    # reconstruimos la matriz por bloques adosando a B la primera fila \n",
    "    # y la primera columna (de ceros)\n",
    "    return np.block([ [A[:1,:]], [ A[1:,:1], B] ])\n",
    "\n",
    "\n",
    "def back_substitution(A_aug):\n",
    "    \"\"\"\n",
    "    Realiza la sustitución hacia atrás para obtener la identidad en el lado izquierdo\n",
    "    de la matriz aumentada y la inversa en el lado derecho.\n",
    "    \"\"\"\n",
    "    n = A_aug.shape[0]\n",
    "    \n",
    "    # Desde la última fila hacia la primera\n",
    "    for i in range(n-1, -1, -1):\n",
    "        # Normalizar la fila de pivote\n",
    "        A_aug[i] = A_aug[i] / A_aug[i, i]\n",
    "        \n",
    "        # Hacer ceros en las filas superiores\n",
    "        for j in range(i):\n",
    "            A_aug[j] -= A_aug[i] * A_aug[j, i]\n",
    "    \n",
    "    return A_aug[:, n:]\n"
   ]
  },
  {
   "cell_type": "code",
   "execution_count": 28,
   "metadata": {},
   "outputs": [
    {
     "data": {
      "text/plain": [
       "array([[ 0.2 ,  0.  , -0.02],\n",
       "       [ 0.  , -0.  ,  0.02],\n",
       "       [-0.  ,  0.09, -0.  ]])"
      ]
     },
     "execution_count": 28,
     "metadata": {},
     "output_type": "execute_result"
    }
   ],
   "source": [
    "A = np.array([[5,  6,  0],\n",
    "       [0,  1,  11],\n",
    "       [0,  58,  1]])\n",
    "\n",
    "n = A.shape[0]\n",
    "I = np.identity(n)\n",
    "conc = np.concatenate((A, I), axis = 1)\n",
    "\n",
    "M = escalonar_filas(conc)\n",
    "\n",
    "np.round(back_substitution(M), 2)"
   ]
  },
  {
   "cell_type": "code",
   "execution_count": 52,
   "metadata": {},
   "outputs": [
    {
     "ename": "SyntaxError",
     "evalue": "invalid syntax (3745222319.py, line 31)",
     "output_type": "error",
     "traceback": [
      "\u001b[0;36m  File \u001b[0;32m\"/tmp/ipykernel_36562/3745222319.py\"\u001b[0;36m, line \u001b[0;32m31\u001b[0m\n\u001b[0;31m    C[:, i] = # Usamos resolver_sistema en lugar de np.linalg.solve\u001b[0m\n\u001b[0m              ^\u001b[0m\n\u001b[0;31mSyntaxError\u001b[0m\u001b[0;31m:\u001b[0m invalid syntax\n"
     ]
    }
   ],
   "source": [
    "def invertir_matriz(A):\n",
    "    n = A.shape[0]\n",
    "    I = np.identity(n)\n",
    "    conc = np.concatenate((A, I), axis = 1)\n",
    "\n",
    "    M = escalonar_filas(conc)\n",
    "\n",
    "    A_inv = np.round(back_substitution(M), 2)\n",
    "\n",
    "\n",
    "    return A_inv\n",
    "\n",
    "\n",
    "def resolver_sistema(A, b):\n",
    "    A_inv = invertir_matriz(np.concatenate((A, b.T), axis = 1))\n",
    "    x = A_inv[:, 0]\n",
    "\n",
    "    return x\n",
    "\n",
    "\n",
    "# Modificación de la función de cambio de base\n",
    "def cambio_base_matriz(B_prime, B):\n",
    "    \"\"\"\n",
    "    Calcula la matriz de cambio de base de B a B' usando `resolver_sistema`.\n",
    "    \"\"\"\n",
    "    n = len(B)\n",
    "    C = np.zeros((n, n))\n",
    "    \n",
    "    # Resolver los sistemas B_prime_i = C * B_i\n",
    "    for i in range(n):\n",
    "        C[:, i] = # Usamos resolver_sistema en lugar de np.linalg.solve\n",
    "    \n",
    "    return C\n",
    "\n"
   ]
  },
  {
   "cell_type": "code",
   "execution_count": 51,
   "metadata": {},
   "outputs": [
    {
     "data": {
      "text/plain": [
       "array([-2.,  1.,  2.])"
      ]
     },
     "execution_count": 51,
     "metadata": {},
     "output_type": "execute_result"
    }
   ],
   "source": [
    "A = np.array([[1,  2,  4],\n",
    "       [2,  1,  2],\n",
    "       [2,  6,  1]])\n",
    "b = np.array([[8, 1, 4]])\n",
    "\n",
    "def resolver_sistema(A, b):\n",
    "    A_inv = invertir_matriz(np.concatenate((A, b.T), axis = 1))\n",
    "    x = A_inv[:, 0]\n",
    "\n",
    "    return x\n",
    "resolver_sistema(A, b)"
   ]
  },
  {
   "cell_type": "code",
   "execution_count": 48,
   "metadata": {},
   "outputs": [
    {
     "data": {
      "text/plain": [
       "array([[-0.33,  0.67,  0.  ],\n",
       "       [ 0.06, -0.21,  0.18],\n",
       "       [ 0.3 , -0.06, -0.09]])"
      ]
     },
     "execution_count": 48,
     "metadata": {},
     "output_type": "execute_result"
    }
   ],
   "source": [
    "def invertir_matriz(A):\n",
    "    n = A.shape[0]\n",
    "    I = np.identity(n)\n",
    "    conc = np.concatenate((A, I), axis = 1)\n",
    "\n",
    "    M = escalonar_filas(conc)\n",
    "\n",
    "    A_inv = np.round(back_substitution(M), 2)\n",
    "\n",
    "\n",
    "    return A_inv\n",
    "invertir_matriz(A)"
   ]
  },
  {
   "cell_type": "code",
   "execution_count": 50,
   "metadata": {},
   "outputs": [
    {
     "data": {
      "text/plain": [
       "array([[-2.  , -0.33,  0.67,  0.  ],\n",
       "       [ 1.  ,  0.06, -0.21,  0.18],\n",
       "       [ 2.  ,  0.3 , -0.06, -0.09]])"
      ]
     },
     "execution_count": 50,
     "metadata": {},
     "output_type": "execute_result"
    }
   ],
   "source": [
    "\n",
    "\n",
    "\n",
    "A_inv = invertir_matriz(np.concatenate((A, b.T), axis = 1))\n",
    "A_inv\n",
    "#x = A_inv[:, -1]\n",
    "#x\n",
    "#np.concatenate((A, b.T), axis = 1)\n"
   ]
  },
  {
   "cell_type": "markdown",
   "metadata": {},
   "source": [
    "### Ayuda. Cambios de Base.\n",
    "\n",
    "Dadas dos bases $ B = \\{\\mathbf{v}_1, \\mathbf{v}_2, \\dots, \\mathbf{v}_n\\} $ y $ B' = \\{\\mathbf{w}_1, \\mathbf{w}_2, \\dots, \\mathbf{w}_n\\} $, queremos encontrar la **matriz de cambio de base** $ C $, que permite expresar un vector en la base $ B $ como combinación lineal de los vectores de la base $ B' $.\n",
    "\n",
    "La matriz de cambio de base $ C $ debe satisfacer:\n",
    "$$\n",
    "[\\mathbf{x}]_B = C [\\mathbf{x}]_{B'}\n",
    "$$\n",
    "Es decir, el vector $ \\mathbf{x} $ en la base $ B' $ se puede transformar a la base $ B $ multiplicando por la matriz $ C $.\n",
    "\n",
    "Para obtener $ C $, necesitamos expresar cada vector de $ B' $, $ \\mathbf{w}_i $, como combinación lineal de los vectores de $ B $, es decir, encontrar los coeficientes $ c_{ij} $ tales que:\n",
    "$$\n",
    "\\mathbf{w}_i = c_{i1} \\mathbf{v}_1 + c_{i2} \\mathbf{v}_2 + \\dots + c_{in} \\mathbf{v}_n\n",
    "$$\n",
    "Esto se puede expresar de forma matricial como:\n",
    "$$\n",
    "\\mathbf{w}_i = C_i \\mathbf{v}\n",
    "$$\n",
    "Donde:\n",
    "- $ \\mathbf{w}_i $ es el $ i $-ésimo vector de la base $ B' $,\n",
    "- $ C_i $ es el $ i $-ésimo vector columna de la matriz de cambio de base $ C $,\n",
    "- $ \\mathbf{v} $ es el vector de la base $ B $ con los vectores $ \\mathbf{v}_1, \\mathbf{v}_2, \\dots, \\mathbf{v}_n $.\n",
    "\n",
    "Entonces, para hallar C:\n",
    "\n",
    "1. Para cada vector $ \\mathbf{w}_i \\in B' $, resolvemos el sistema $ B \\cdot C_i = \\mathbf{w}_i $.\n",
    "2. Los coeficientes $ C_i $ formarán las columnas de la matriz de cambio de base $ C $.\n",
    "3. Esto lo hacemos utilizando un algoritmo de resolución de sistemas lineales (sin `np.linalg.solve`, usando eliminación gaussiana, por ejemplo).\n",
    "\n",
    "El bucle del código:\n",
    "```\n",
    "for i in range(n):\n",
    "    C[:, i] = ...\n",
    "```\n",
    "\n",
    "Resuelve el sistema para cada vector $ \\mathbf{w}_i \\in B' $ y almacena los coeficientes en las columnas de la matriz $ C $."
   ]
  },
  {
   "cell_type": "code",
   "execution_count": 56,
   "metadata": {},
   "outputs": [
    {
     "name": "stdout",
     "output_type": "stream",
     "text": [
      "Matriz B \n",
      " [[ 1.  0.  0.  0.  0.  0.  1.]\n",
      " [-1.  1.  0.  0.  0.  0.  1.]\n",
      " [-1. -1.  1.  0.  0.  0.  1.]\n",
      " [-1. -1. -1.  1.  0.  0.  1.]\n",
      " [-1. -1. -1. -1.  1.  0.  1.]\n",
      " [-1. -1. -1. -1. -1.  1.  1.]\n",
      " [-1. -1. -1. -1. -1. -1.  1.]]\n",
      "Matriz L \n",
      " [[ 1.  0.  0.  0.  0.  0.  0.]\n",
      " [-1.  1.  0.  0.  0.  0.  0.]\n",
      " [-1. -1.  1.  0.  0.  0.  0.]\n",
      " [-1. -1. -1.  1.  0.  0.  0.]\n",
      " [-1. -1. -1. -1.  1.  0.  0.]\n",
      " [-1. -1. -1. -1. -1.  1.  0.]\n",
      " [-1. -1. -1. -1. -1. -1.  1.]]\n",
      "Matriz U \n",
      " [[1. 0. 0. 0. 0. 0. 1.]\n",
      " [0. 1. 0. 0. 0. 0. 1.]\n",
      " [0. 0. 1. 0. 0. 0. 1.]\n",
      " [0. 0. 0. 1. 0. 0. 1.]\n",
      " [0. 0. 0. 0. 1. 0. 1.]\n",
      " [0. 0. 0. 0. 0. 1. 1.]\n",
      " [0. 0. 0. 0. 0. 0. 1.]]\n",
      "Cantidad de operaciones:  0\n",
      "B=LU?  No!\n",
      "Norma infinito de U:  2.0\n"
     ]
    }
   ],
   "source": [
    "import numpy as np\n",
    "\n",
    "def elim_gaussiana(A):\n",
    "    cant_op = 0\n",
    "    m=A.shape[0]\n",
    "    n=A.shape[1]\n",
    "    Ac = A.copy()\n",
    "    \n",
    "    if m!=n:\n",
    "        print('Matriz no cuadrada')\n",
    "        return\n",
    "    \n",
    "    ## desde aqui -- CODIGO A COMPLETAR\n",
    "\n",
    "\n",
    "\n",
    "\n",
    "\n",
    "                \n",
    "    ## hasta aqui\n",
    "            \n",
    "    L = np.tril(Ac,-1) + np.eye(A.shape[0]) \n",
    "    U = np.triu(Ac)\n",
    "    \n",
    "    return L, U, cant_op\n",
    "\n",
    "\n",
    "def main():\n",
    "    n = 7\n",
    "    B = np.eye(n) - np.tril(np.ones((n,n)),-1) \n",
    "    B[:n,n-1] = 1\n",
    "    print('Matriz B \\n', B)\n",
    "    \n",
    "    L,U,cant_oper = elim_gaussiana(B)\n",
    "    \n",
    "    print('Matriz L \\n', L)\n",
    "    print('Matriz U \\n', U)\n",
    "    print('Cantidad de operaciones: ', cant_oper)\n",
    "    print('B=LU? ' , 'Si!' if np.allclose(np.linalg.norm(B - L@U, 1), 0) else 'No!')\n",
    "    print('Norma infinito de U: ', np.max(np.sum(np.abs(U), axis=1)) )\n",
    "\n",
    "if __name__ == \"__main__\":\n",
    "    main()"
   ]
  },
  {
   "cell_type": "code",
   "execution_count": 58,
   "metadata": {},
   "outputs": [
    {
     "data": {
      "text/plain": [
       "array([[1, 2, 4],\n",
       "       [2, 1, 2],\n",
       "       [2, 6, 1]])"
      ]
     },
     "execution_count": 58,
     "metadata": {},
     "output_type": "execute_result"
    }
   ],
   "source": [
    "A\n"
   ]
  },
  {
   "cell_type": "code",
   "execution_count": 60,
   "metadata": {},
   "outputs": [
    {
     "data": {
      "text/plain": [
       "array([[1., 0., 0.],\n",
       "       [2., 1., 0.],\n",
       "       [2., 6., 1.]])"
      ]
     },
     "execution_count": 60,
     "metadata": {},
     "output_type": "execute_result"
    }
   ],
   "source": [
    "Ac = A.copy()\n",
    "L = np.tril(Ac,-1) + np.eye(A.shape[0]) \n",
    "L"
   ]
  },
  {
   "cell_type": "code",
   "execution_count": 61,
   "metadata": {},
   "outputs": [
    {
     "data": {
      "text/plain": [
       "array([[1, 2, 4],\n",
       "       [0, 1, 2],\n",
       "       [0, 0, 1]])"
      ]
     },
     "execution_count": 61,
     "metadata": {},
     "output_type": "execute_result"
    }
   ],
   "source": [
    "U = np.triu(Ac)\n",
    "U"
   ]
  },
  {
   "cell_type": "code",
   "execution_count": 62,
   "metadata": {},
   "outputs": [
    {
     "data": {
      "text/plain": [
       "array([  8., -15.,  78.])"
      ]
     },
     "execution_count": 62,
     "metadata": {},
     "output_type": "execute_result"
    }
   ],
   "source": [
    "def resolver_L(L, b):\n",
    "    res = resolver_sistema(L, b)\n",
    "    return res\n",
    "\n",
    "resolver_L(L, b)\n",
    "    "
   ]
  },
  {
   "cell_type": "code",
   "execution_count": 65,
   "metadata": {},
   "outputs": [
    {
     "data": {
      "text/plain": [
       "array([ 6., -7.,  4.])"
      ]
     },
     "execution_count": 65,
     "metadata": {},
     "output_type": "execute_result"
    }
   ],
   "source": [
    "def resolver_U(U, b):\n",
    "    res = resolver_sistema(U, b)\n",
    "    return res\n",
    "    \n",
    "resolver_U(U, b)"
   ]
  }
 ],
 "metadata": {
  "kernelspec": {
   "display_name": "Python 3 (ipykernel)",
   "language": "python",
   "name": "python3"
  },
  "language_info": {
   "codemirror_mode": {
    "name": "ipython",
    "version": 3
   },
   "file_extension": ".py",
   "mimetype": "text/x-python",
   "name": "python",
   "nbconvert_exporter": "python",
   "pygments_lexer": "ipython3",
   "version": "3.10.12"
  }
 },
 "nbformat": 4,
 "nbformat_minor": 4
}
